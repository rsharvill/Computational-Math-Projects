{
 "cells": [
  {
   "cell_type": "markdown",
   "metadata": {},
   "source": [
    "<font size=4> **Random algorithm to test for polynomial equality.** </font>\n",
    "\n",
    "The goal is to test whether two (monic) polynomials, one given in complete factored form and the other in the standard form, are equal.\n",
    "\n",
    "For example, determine if the following polynomials are equal.\n",
    "\n",
    "$$ P_1(x) = (x+1)(x-2)(x+3)(x-4)(x+5)(x-6) \\ \\ \\ \\ \\mbox{and} \\ \\ \\ \\ P_2(x) = x^6-7x^3+25$$\n",
    "\n",
    "The straightforward (deterministic) method to check equality is to expand $P_1$ and check whether corresponding coefficients match.  This method requires $\\Theta(d^2)$ multiplications where $d$ is the degree of the polynomial.\n",
    "\n",
    "In this notebook, we implement the following alternative random algorithm.\n",
    "\n",
    "**Random Algorithm for Polynomial Equality**\n",
    "\n",
    "1. Choose an integer $r$ uniformly at random in the range $\\{1, \\ldots, 100d\\}$.\n",
    "\n",
    "2. Compute the values of $P_1(r)$ and $P_2(r)$.\n",
    "\n",
    "3. (a) If $P_1(r) = P_2(r)$, return the two polynomials are equal.\n",
    "\n",
    "   (b) If $P_1(r) \\neq P_2(r)$, return the two polynomials are NOT equal.\n",
    "\n",
    "Assuming the random number generator takes one computational step, this random algorithm takes $O(d)$ computational steps.  \n",
    "\n",
    "\n"
   ]
  },
  {
   "cell_type": "markdown",
   "metadata": {},
   "source": [
    "=================================\n",
    "\n",
    "For this assignment you need to implement the random algorithm above with the following inputs and outputs:\n",
    "\n",
    "Inputs: (a) The degree of the polynomials $d$, (b) The first (monic) polynomial $P_1$ in complete factored form of degree $d$, (c) The second (monic) polynomial $P_2$ in standard form of degree $d$.\n",
    "\n",
    "Outputs: (a) The random integer $r$ in the range $\\{1, 2, \\ldots, 100d\\}$, (b) The values $P_1(r)$ and $P_2(r)$, (c) The conclusion of random algorithm; i.e. whether $P_1$ and $P_2$ are equal or not."
   ]
  },
  {
   "cell_type": "markdown",
   "metadata": {},
   "source": [
    "=================================\n",
    "\n",
    "We begin, in the usual way, by importing the packages we will need for this notebook."
   ]
  },
  {
   "cell_type": "code",
   "execution_count": null,
   "metadata": {
    "collapsed": true
   },
   "outputs": [],
   "source": [
    "import numpy as np\n",
    "from random import randint\n",
    "from numpy.polynomial.polynomial import polyvalfromroots  "
   ]
  },
  {
   "cell_type": "markdown",
   "metadata": {},
   "source": [
    "In the next cell, we ask the user to define the two polynomials in terms of \n",
    "\n",
    "(a) the roots for the factored polynomial, and \n",
    "\n",
    "(b) the coefficients for the polynomial in standard form.\n",
    "\n",
    "Start with low degree polynomials to test."
   ]
  },
  {
   "cell_type": "code",
   "execution_count": null,
   "metadata": {},
   "outputs": [],
   "source": [
    "d = int(input('What is the common degree of the polynomials?  ' ))  #d is the degree of the polynomial\n",
    "\n",
    "P1roots = input(\"Enter the roots of P1 (separated by commas):  \").split(',')\n",
    "\n",
    "P1rootslist = list(map(int, P1roots))  #This converts the input list into an array.\n",
    "\n",
    "P2coeffs = input(\"Enter the coefficients of P2 (separated by commas) starting with highest coefficient which is always 1:  \").split(',')\n",
    "\n",
    "P2coeffslist = list(map(int, P2coeffs))  #This converts the input list into an array.\n",
    "\n",
    "P2 = np.poly1d(P2coeffslist)  #This converts the array of coefficients into the polynomial in standard form.\n",
    "\n",
    "print('The roots of P1 are ' + str(P1rootslist))\n",
    "print('The second polynomial in standard form is ' + str(P2))"
   ]
  },
  {
   "cell_type": "markdown",
   "metadata": {},
   "source": [
    "=================================\n",
    "\n",
    "In the next cell, write the code to generate a random intger in the range {1, ..., 10d} and call it r.  The output of the cell should read \n",
    "\n",
    "\"The random integer in the range {1, ..., 10d} is r\"."
   ]
  },
  {
   "cell_type": "code",
   "execution_count": null,
   "metadata": {},
   "outputs": [],
   "source": [
    "r = randint(1,10*d)\n",
    "print(\"The random integer in the range {1,...,10d} is\",r)"
   ]
  },
  {
   "cell_type": "markdown",
   "metadata": {},
   "source": [
    "=================================\n",
    "\n",
    "In the following cell, the two polynomials defined above are evaluated at the random integer r.  Hand evaluate the polynomials in order to verify the program is running correctly.  "
   ]
  },
  {
   "cell_type": "code",
   "execution_count": null,
   "metadata": {},
   "outputs": [],
   "source": [
    "P1r = int(polyvalfromroots(r, P1rootslist))\n",
    "\n",
    "P2r = P2(r)\n",
    "\n",
    "print('The value of the first polynomial P1 at the random value ' + str(r) + ' is ' + str(P1r))\n",
    "print('The value of the second polynomial P2 at the random value ' + str(r) + ' is ' + str(P2r))"
   ]
  },
  {
   "cell_type": "markdown",
   "metadata": {},
   "source": [
    "=================================\n",
    "\n",
    "Next, write the code that completes the algorithm; i.e. write the code that will make the conclusion as described in the algorithm.  Your output should either read\n",
    "\n",
    "(a) \"Since P1(r) $\\neq$ P2(r), we conclude that the two polynomials are not equal\", or\n",
    "\n",
    "(b) \"Since P1(r) $=$ P2(r), we conclude that the two polynomials are equal\"\n",
    "\n",
    "Hint: use \"if/else\" statements."
   ]
  },
  {
   "cell_type": "code",
   "execution_count": null,
   "metadata": {},
   "outputs": [],
   "source": [
    "if(P1r != P2r):\n",
    "    print(\"Since P1(r) does not equal P2(r), we conclude that the two polynomials are not equal\")\n",
    "else:\n",
    "    print(\"Since P1(r)=P2(r), we conclude that the two polynomials are equal\")"
   ]
  },
  {
   "cell_type": "markdown",
   "metadata": {},
   "source": [
    "=================================\n",
    "\n",
    "Now, go back and run your algorithm for various pairs of polynomials of varying degrees, including the original pair defined in the very first cell."
   ]
  },
  {
   "cell_type": "code",
   "execution_count": null,
   "metadata": {
    "collapsed": true
   },
   "outputs": [],
   "source": []
  },
  {
   "cell_type": "markdown",
   "metadata": {},
   "source": [
    "=================================\n",
    "\n",
    "The final task is to validate the bound on the probability of error we proved in class.  To do this, write the code to implement the random algorithm many times and keep track of the number of times the two polynomials agree at the random integers when the two input polynomials are NOT the same. Use a fairly high degree polynomial (d > 10).\n",
    "\n",
    "About how many times should the evaluated polynomials agree?\n",
    "\n",
    "To get you started, below is the code to create an array of random integers."
   ]
  },
  {
   "cell_type": "code",
   "execution_count": null,
   "metadata": {
    "collapsed": true
   },
   "outputs": [],
   "source": [
    "def create_array(size=15, max=10*d):  #fcn creates array of random integers between 1 and max\n",
    "    return[randint(1, max) for _ in range(size)]"
   ]
  },
  {
   "cell_type": "markdown",
   "metadata": {},
   "source": [
    "=================================\n",
    "\n",
    "The count_errors function asks the user to define two polynomials, and then runs the runs the random algorithm 10,000 times while keeping track of the number of errors. Once the loop is complete the function outputs the number of errors encountered and probability of getting an error in that trial. "
   ]
  },
  {
   "cell_type": "code",
   "execution_count": null,
   "metadata": {
    "collapsed": true,
    "scrolled": false
   },
   "outputs": [],
   "source": [
    "def count_errors():\n",
    "    count = 0\n",
    "    d = int(input('What is the common degree of the polynomials?  ' ))  #d is the degree of the polynomial\n",
    "\n",
    "    P1roots = input(\"Enter the roots of P1 (separated by commas):  \").split(',')\n",
    "\n",
    "    P1rootslist = list(map(int, P1roots))  #This converts the input list into an array.\n",
    "\n",
    "    P2coeffs = input(\"Enter the coefficients of P2 (separated by commas) starting with highest coefficient which is always 1:  \").split(',')\n",
    "\n",
    "    P2coeffslist = list(map(int, P2coeffs))  #This converts the input list into an array.\n",
    "\n",
    "    P2 = np.poly1d(P2coeffslist)  #This converts the array of coefficients into the polynomial in standard form.\n",
    "    for i in range(1,10000):\n",
    "        r = randint(1,10*d)\n",
    "        P1r=int(polyvalfromroots(r,P1rootslist))\n",
    "        P2r=P2(r)\n",
    "        if(P1r == P2r):\n",
    "            count+=1\n",
    "    print(\"The number of errors is\",count)\n",
    "    print(\"The probability of an error in this trial was\", count/10000)\n",
    "   "
   ]
  },
  {
   "cell_type": "code",
   "execution_count": null,
   "metadata": {},
   "outputs": [],
   "source": [
    "count_errors()"
   ]
  },
  {
   "cell_type": "markdown",
   "metadata": {
    "collapsed": true
   },
   "source": [
    "=================================\n",
    "\n",
    "After running the count_errors() function for numerous polynomials that we knew were not equal, we saw that the probability of of the algorithm saying two polynomials were equal even though they were not was around 10% as proven in class. "
   ]
  },
  {
   "cell_type": "code",
   "execution_count": null,
   "metadata": {
    "collapsed": true
   },
   "outputs": [],
   "source": []
  }
 ],
 "metadata": {
  "kernelspec": {
   "display_name": "Python 3",
   "language": "python",
   "name": "python3"
  },
  "language_info": {
   "codemirror_mode": {
    "name": "ipython",
    "version": 3
   },
   "file_extension": ".py",
   "mimetype": "text/x-python",
   "name": "python",
   "nbconvert_exporter": "python",
   "pygments_lexer": "ipython3",
   "version": "3.7.1"
  }
 },
 "nbformat": 4,
 "nbformat_minor": 2
}
